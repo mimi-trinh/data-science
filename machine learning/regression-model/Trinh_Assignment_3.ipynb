{
 "cells": [
  {
   "cell_type": "code",
   "execution_count": 1,
   "metadata": {},
   "outputs": [],
   "source": [
    "# Assignment 3 by Mimi Trinh\n",
    "RANDOM_SEED = 1\n",
    "SET_FIT_INTERCEPT = True\n",
    "import numpy as np\n",
    "import pandas as pd\n",
    "import sklearn.linear_model \n",
    "from sklearn.linear_model import LinearRegression, Ridge, Lasso, ElasticNet\n",
    "from sklearn.metrics import mean_squared_error, r2_score  \n",
    "from math import sqrt\n",
    "from sklearn.preprocessing import StandardScaler\n",
    "import matplotlib.pyplot as plt\n",
    "from sklearn.model_selection import cross_val_score\n",
    "from sklearn.metrics import mean_squared_error\n",
    "import statsmodels.api as sm"
   ]
  },
  {
   "cell_type": "code",
   "execution_count": 2,
   "metadata": {},
   "outputs": [
    {
     "name": "stdout",
     "output_type": "stream",
     "text": [
      "\n",
      "boston DataFrame (first and last five rows):\n",
      "  neighborhood     crim    zn  indus  chas    nox  rooms   age     dis  rad  \\\n",
      "0       Nahant  0.00632  18.0   2.31     0  0.538  6.575  65.2  4.0900    1   \n",
      "1   Swampscott  0.02731   0.0   7.07     0  0.469  6.421  78.9  4.9671    2   \n",
      "2   Swanpscott  0.02729   0.0   7.07     0  0.469  7.185  61.1  4.9671    2   \n",
      "3   Marblehead  0.03237   0.0   2.18     0  0.458  6.998  45.8  6.0622    3   \n",
      "4   Marblehead  0.06905   0.0   2.18     0  0.458  7.147  54.2  6.0622    3   \n",
      "\n",
      "   tax  ptratio  lstat    mv  \n",
      "0  296     15.3   4.98  24.0  \n",
      "1  242     17.8   9.14  21.6  \n",
      "2  242     17.8   4.03  34.7  \n",
      "3  222     18.7   2.94  33.4  \n",
      "4  222     18.7   5.33  36.2  \n",
      "    neighborhood     crim   zn  indus  chas    nox  rooms   age     dis  rad  \\\n",
      "501     Winthrop  0.06263  0.0  11.93     0  0.573  6.593  69.1  2.4786    1   \n",
      "502     Winthrop  0.04527  0.0  11.93     0  0.573  6.120  76.7  2.2875    1   \n",
      "503     Winthrop  0.06076  0.0  11.93     0  0.573  6.976  91.0  2.1675    1   \n",
      "504     Winthrop  0.10959  0.0  11.93     0  0.573  6.794  89.3  2.3889    1   \n",
      "505     Winthrop  0.04741  0.0  11.93     0  0.573  6.030  80.8  2.5050    1   \n",
      "\n",
      "     tax  ptratio  lstat    mv  \n",
      "501  273     21.0   9.67  22.4  \n",
      "502  273     21.0   9.08  20.6  \n",
      "503  273     21.0   5.64  23.9  \n",
      "504  273     21.0   6.48  22.0  \n",
      "505  273     21.0   7.88  19.0  \n"
     ]
    }
   ],
   "source": [
    "boston_input = pd.read_csv('boston.csv')\n",
    "print('\\nboston DataFrame (first and last five rows):')\n",
    "print(boston_input.head())\n",
    "print(boston_input.tail())"
   ]
  },
  {
   "cell_type": "code",
   "execution_count": 3,
   "metadata": {},
   "outputs": [
    {
     "name": "stdout",
     "output_type": "stream",
     "text": [
      "\n",
      "General description of the boston_input DataFrame:\n",
      "<class 'pandas.core.frame.DataFrame'>\n",
      "RangeIndex: 506 entries, 0 to 505\n",
      "Data columns (total 14 columns):\n",
      "neighborhood    506 non-null object\n",
      "crim            506 non-null float64\n",
      "zn              506 non-null float64\n",
      "indus           506 non-null float64\n",
      "chas            506 non-null int64\n",
      "nox             506 non-null float64\n",
      "rooms           506 non-null float64\n",
      "age             506 non-null float64\n",
      "dis             506 non-null float64\n",
      "rad             506 non-null int64\n",
      "tax             506 non-null int64\n",
      "ptratio         506 non-null float64\n",
      "lstat           506 non-null float64\n",
      "mv              506 non-null float64\n",
      "dtypes: float64(10), int64(3), object(1)\n",
      "memory usage: 55.4+ KB\n",
      "None\n"
     ]
    }
   ],
   "source": [
    "print('\\nGeneral description of the boston_input DataFrame:')\n",
    "print(boston_input.info())"
   ]
  },
  {
   "cell_type": "code",
   "execution_count": 4,
   "metadata": {},
   "outputs": [
    {
     "data": {
      "text/plain": [
       "(506, 14)"
      ]
     },
     "execution_count": 4,
     "metadata": {},
     "output_type": "execute_result"
    }
   ],
   "source": [
    "boston_input.shape"
   ]
  },
  {
   "cell_type": "code",
   "execution_count": 5,
   "metadata": {},
   "outputs": [
    {
     "name": "stdout",
     "output_type": "stream",
     "text": [
      "\n",
      "General description of the boston DataFrame:\n",
      "<class 'pandas.core.frame.DataFrame'>\n",
      "RangeIndex: 506 entries, 0 to 505\n",
      "Data columns (total 13 columns):\n",
      "crim       506 non-null float64\n",
      "zn         506 non-null float64\n",
      "indus      506 non-null float64\n",
      "chas       506 non-null int64\n",
      "nox        506 non-null float64\n",
      "rooms      506 non-null float64\n",
      "age        506 non-null float64\n",
      "dis        506 non-null float64\n",
      "rad        506 non-null int64\n",
      "tax        506 non-null int64\n",
      "ptratio    506 non-null float64\n",
      "lstat      506 non-null float64\n",
      "mv         506 non-null float64\n",
      "dtypes: float64(10), int64(3)\n",
      "memory usage: 51.5 KB\n",
      "None\n"
     ]
    }
   ],
   "source": [
    "# drop neighborhood from the data being considered\n",
    "boston = boston_input.drop('neighborhood', 1)\n",
    "print('\\nGeneral description of the boston DataFrame:')\n",
    "print(boston.info())\n",
    "# no NA value, no need to address missing value issue"
   ]
  },
  {
   "cell_type": "code",
   "execution_count": 6,
   "metadata": {},
   "outputs": [
    {
     "name": "stdout",
     "output_type": "stream",
     "text": [
      "\n",
      "Descriptive statistics of the boston DataFrame:\n",
      "             crim          zn       indus        chas         nox       rooms  \\\n",
      "count  506.000000  506.000000  506.000000  506.000000  506.000000  506.000000   \n",
      "mean     3.613524   11.363636   11.136779    0.069170    0.554695    6.284634   \n",
      "std      8.601545   23.322453    6.860353    0.253994    0.115878    0.702617   \n",
      "min      0.006320    0.000000    0.460000    0.000000    0.385000    3.561000   \n",
      "25%      0.082045    0.000000    5.190000    0.000000    0.449000    5.885500   \n",
      "50%      0.256510    0.000000    9.690000    0.000000    0.538000    6.208500   \n",
      "75%      3.677082   12.500000   18.100000    0.000000    0.624000    6.623500   \n",
      "max     88.976200  100.000000   27.740000    1.000000    0.871000    8.780000   \n",
      "\n",
      "              age         dis         rad         tax     ptratio       lstat  \\\n",
      "count  506.000000  506.000000  506.000000  506.000000  506.000000  506.000000   \n",
      "mean    68.574901    3.795043    9.549407  408.237154   18.455534   12.653063   \n",
      "std     28.148861    2.105710    8.707259  168.537116    2.164946    7.141062   \n",
      "min      2.900000    1.129600    1.000000  187.000000   12.600000    1.730000   \n",
      "25%     45.025000    2.100175    4.000000  279.000000   17.400000    6.950000   \n",
      "50%     77.500000    3.207450    5.000000  330.000000   19.050000   11.360000   \n",
      "75%     94.075000    5.188425   24.000000  666.000000   20.200000   16.955000   \n",
      "max    100.000000   12.126500   24.000000  711.000000   22.000000   37.970000   \n",
      "\n",
      "               mv  \n",
      "count  506.000000  \n",
      "mean    22.528854  \n",
      "std      9.182176  \n",
      "min      5.000000  \n",
      "25%     17.025000  \n",
      "50%     21.200000  \n",
      "75%     25.000000  \n",
      "max     50.000000  \n"
     ]
    }
   ],
   "source": [
    "print('\\nDescriptive statistics of the boston DataFrame:')\n",
    "print(boston.describe())"
   ]
  },
  {
   "cell_type": "code",
   "execution_count": 7,
   "metadata": {},
   "outputs": [
    {
     "data": {
      "text/plain": [
       "(506, 13)"
      ]
     },
     "execution_count": 7,
     "metadata": {},
     "output_type": "execute_result"
    }
   ],
   "source": [
    "boston.shape"
   ]
  },
  {
   "cell_type": "code",
   "execution_count": 8,
   "metadata": {},
   "outputs": [
    {
     "name": "stdout",
     "output_type": "stream",
     "text": [
      "\n",
      "Data dimensions: (506, 13)\n"
     ]
    }
   ],
   "source": [
    "# create model data with the first column as response variable (mv) and remaining columns as predictor variables\n",
    "prelim_model_data = np.array([boston.mv,\\\n",
    "    boston.crim,\\\n",
    "    boston.zn,\\\n",
    "    boston.indus,\\\n",
    "    boston.chas,\\\n",
    "    boston.nox,\\\n",
    "    boston.rooms,\\\n",
    "    boston.age,\\\n",
    "    boston.dis,\\\n",
    "    boston.rad,\\\n",
    "    boston.tax,\\\n",
    "    boston.ptratio,\\\n",
    "    boston.lstat]).T\n",
    "print('\\nData dimensions:', prelim_model_data.shape)"
   ]
  },
  {
   "cell_type": "code",
   "execution_count": 9,
   "metadata": {},
   "outputs": [
    {
     "name": "stdout",
     "output_type": "stream",
     "text": [
      "StandardScaler(copy=True, with_mean=True, with_std=True)\n",
      "[2.25288538e+01 3.61352356e+00 1.13636364e+01 1.11367787e+01\n",
      " 6.91699605e-02 5.54695059e-01 6.28463439e+00 6.85749012e+01\n",
      " 3.79504269e+00 9.54940711e+00 4.08237154e+02 1.84555336e+01\n",
      " 1.26530632e+01]\n",
      "[9.17309810e+00 8.59304135e+00 2.32993957e+01 6.85357058e+00\n",
      " 2.53742935e-01 1.15763115e-01 7.01922514e-01 2.81210326e+01\n",
      " 2.10362836e+00 8.69865112e+00 1.68370495e+02 2.16280519e+00\n",
      " 7.13400164e+00]\n"
     ]
    }
   ],
   "source": [
    "# best practice to standardize variables into a single scale\n",
    "scaler = StandardScaler()\n",
    "print(scaler.fit(prelim_model_data))\n",
    "print(scaler.mean_)\n",
    "print(scaler.scale_)"
   ]
  },
  {
   "cell_type": "code",
   "execution_count": 10,
   "metadata": {},
   "outputs": [
    {
     "name": "stdout",
     "output_type": "stream",
     "text": [
      "\n",
      "Dimensions for model_data: (506, 13)\n"
     ]
    }
   ],
   "source": [
    "model_data = scaler.fit_transform(prelim_model_data)\n",
    "# use this model data for analysis after scaler transformation\n",
    "print('\\nDimensions for model_data:', model_data.shape)"
   ]
  },
  {
   "cell_type": "code",
   "execution_count": 11,
   "metadata": {},
   "outputs": [
    {
     "name": "stdout",
     "output_type": "stream",
     "text": [
      "<class 'pandas.core.frame.DataFrame'>\n",
      "RangeIndex: 506 entries, 0 to 505\n",
      "Data columns (total 13 columns):\n",
      "mv         506 non-null float64\n",
      "crim       506 non-null float64\n",
      "zn         506 non-null float64\n",
      "indus      506 non-null float64\n",
      "chas       506 non-null float64\n",
      "nox        506 non-null float64\n",
      "rooms      506 non-null float64\n",
      "age        506 non-null float64\n",
      "dis        506 non-null float64\n",
      "rad        506 non-null float64\n",
      "tax        506 non-null float64\n",
      "ptratio    506 non-null float64\n",
      "lstat      506 non-null float64\n",
      "dtypes: float64(13)\n",
      "memory usage: 51.5 KB\n"
     ]
    }
   ],
   "source": [
    "visual_data=pd.DataFrame(model_data)\n",
    "visual_data.columns=['mv','crim','zn','indus','chas','nox','rooms','age','dis','rad','tax','ptratio','lstat']\n",
    "visual_data.info()"
   ]
  },
  {
   "cell_type": "code",
   "execution_count": 12,
   "metadata": {},
   "outputs": [
    {
     "data": {
      "text/plain": [
       "Text(0.5,1,'Median Values of Homes in Thousands of 1970 Dollars')"
      ]
     },
     "execution_count": 12,
     "metadata": {},
     "output_type": "execute_result"
    },
    {
     "data": {
      "image/png": "[encoded data removed]",
      "text/plain": [
       "<Figure size 432x288 with 1 Axes>"
      ]
     },
     "metadata": {},
     "output_type": "display_data"
    }
   ],
   "source": [
    "plt.plot(visual_data.mv,color='green')\n",
    "plt.title('Median Values of Homes in Thousands of 1970 Dollars',color='blue')"
   ]
  },
  {
   "cell_type": "code",
   "execution_count": 13,
   "metadata": {},
   "outputs": [
    {
     "data": {
      "text/plain": [
       "Text(0.5,1,'Median Values of Homes in Thousands of 1970 Dollars')"
      ]
     },
     "execution_count": 13,
     "metadata": {},
     "output_type": "execute_result"
    },
    {
     "data": {
      "image/png": "[encoded data removed]",
      "text/plain": [
       "<Figure size 432x288 with 1 Axes>"
      ]
     },
     "metadata": {},
     "output_type": "display_data"
    }
   ],
   "source": [
    "plt.boxplot(visual_data.mv,patch_artist=True)\n",
    "plt.title('Median Values of Homes in Thousands of 1970 Dollars',color='green')\n",
    "# there are many outliers in response variable, skewing toward the right \n",
    "# no outlier outside +/-3, so no extreme outlier"
   ]
  },
  {
   "cell_type": "code",
   "execution_count": 14,
   "metadata": {},
   "outputs": [
    {
     "data": {
      "text/plain": [
       "mv         1.000000\n",
       "rooms      0.696304\n",
       "zn         0.360386\n",
       "dis        0.249315\n",
       "chas       0.175663\n",
       "age       -0.377999\n",
       "rad       -0.384766\n",
       "crim      -0.389582\n",
       "nox       -0.429300\n",
       "tax       -0.471979\n",
       "indus     -0.484754\n",
       "ptratio   -0.505655\n",
       "lstat     -0.740836\n",
       "Name: mv, dtype: float64"
      ]
     },
     "execution_count": 14,
     "metadata": {},
     "output_type": "execute_result"
    }
   ],
   "source": [
    "corr_matrix=visual_data.corr()\n",
    "corr_matrix['mv'].sort_values(ascending=False)"
   ]
  },
  {
   "cell_type": "code",
   "execution_count": 15,
   "metadata": {},
   "outputs": [
    {
     "data": {
      "text/plain": [
       "Text(0,0.5,'Median Value of Homes in Thousands of 1970 Dollars')"
      ]
     },
     "execution_count": 15,
     "metadata": {},
     "output_type": "execute_result"
    },
    {
     "data": {
      "image/png": "[encoded data removed]",
      "text/plain": [
       "<Figure size 432x288 with 1 Axes>"
      ]
     },
     "metadata": {},
     "output_type": "display_data"
    }
   ],
   "source": [
    "visual_data.plot(kind='scatter',x='rooms',y='mv',color='green')\n",
    "plt.title('Average # of Rooms vs. Median Home Values',color='blue')\n",
    "plt.xlabel('Average # of Rooms per Home',color='blue')\n",
    "plt.ylabel('Median Value of Homes in Thousands of 1970 Dollars',color='blue')"
   ]
  },
  {
   "cell_type": "code",
   "execution_count": 16,
   "metadata": {},
   "outputs": [
    {
     "data": {
      "text/plain": [
       "Text(0,0.5,'Median Value of Homes in Thousands of 1970 Dollars')"
      ]
     },
     "execution_count": 16,
     "metadata": {},
     "output_type": "execute_result"
    },
    {
     "data": {
      "image/png": "[encoded data removed]",
      "text/plain": [
       "<Figure size 432x288 with 1 Axes>"
      ]
     },
     "metadata": {},
     "output_type": "display_data"
    }
   ],
   "source": [
    "visual_data.plot(kind='scatter',x='lstat',y='mv',color='red')\n",
    "plt.title('Lower Socio-economic Status vs. Median Home Values',color='blue')\n",
    "plt.xlabel('% of Population of Lower Socio-Economic Status',color='blue')\n",
    "plt.ylabel('Median Value of Homes in Thousands of 1970 Dollars',color='blue')"
   ]
  },
  {
   "cell_type": "code",
   "execution_count": 17,
   "metadata": {},
   "outputs": [
    {
     "data": {
      "text/html": [
       "<div>\n",
       "<style scoped>\n",
       "    .dataframe tbody tr th:only-of-type {\n",
       "        vertical-align: middle;\n",
       "    }\n",
       "\n",
       "    .dataframe tbody tr th {\n",
       "        vertical-align: top;\n",
       "    }\n",
       "\n",
       "    .dataframe thead th {\n",
       "        text-align: right;\n",
       "    }\n",
       "</style>\n",
       "<table border=\"1\" class=\"dataframe\">\n",
       "  <thead>\n",
       "    <tr style=\"text-align: right;\">\n",
       "      <th></th>\n",
       "      <th>mv</th>\n",
       "      <th>crim</th>\n",
       "      <th>zn</th>\n",
       "      <th>indus</th>\n",
       "      <th>chas</th>\n",
       "      <th>nox</th>\n",
       "      <th>rooms</th>\n",
       "      <th>age</th>\n",
       "      <th>dis</th>\n",
       "      <th>rad</th>\n",
       "      <th>tax</th>\n",
       "      <th>ptratio</th>\n",
       "      <th>lstat</th>\n",
       "    </tr>\n",
       "  </thead>\n",
       "  <tbody>\n",
       "    <tr>\n",
       "      <th>0</th>\n",
       "      <td>0.160376</td>\n",
       "      <td>-0.419782</td>\n",
       "      <td>0.284830</td>\n",
       "      <td>-1.287909</td>\n",
       "      <td>-0.272599</td>\n",
       "      <td>-0.144217</td>\n",
       "      <td>0.413672</td>\n",
       "      <td>-0.120013</td>\n",
       "      <td>0.140214</td>\n",
       "      <td>-0.982843</td>\n",
       "      <td>-0.666608</td>\n",
       "      <td>-1.459000</td>\n",
       "      <td>-1.075562</td>\n",
       "    </tr>\n",
       "    <tr>\n",
       "      <th>1</th>\n",
       "      <td>-0.101258</td>\n",
       "      <td>-0.417339</td>\n",
       "      <td>-0.487722</td>\n",
       "      <td>-0.593381</td>\n",
       "      <td>-0.272599</td>\n",
       "      <td>-0.740262</td>\n",
       "      <td>0.194274</td>\n",
       "      <td>0.367166</td>\n",
       "      <td>0.557160</td>\n",
       "      <td>-0.867883</td>\n",
       "      <td>-0.987329</td>\n",
       "      <td>-0.303094</td>\n",
       "      <td>-0.492439</td>\n",
       "    </tr>\n",
       "    <tr>\n",
       "      <th>2</th>\n",
       "      <td>1.326830</td>\n",
       "      <td>-0.417342</td>\n",
       "      <td>-0.487722</td>\n",
       "      <td>-0.593381</td>\n",
       "      <td>-0.272599</td>\n",
       "      <td>-0.740262</td>\n",
       "      <td>1.282714</td>\n",
       "      <td>-0.265812</td>\n",
       "      <td>0.557160</td>\n",
       "      <td>-0.867883</td>\n",
       "      <td>-0.987329</td>\n",
       "      <td>-0.303094</td>\n",
       "      <td>-1.208727</td>\n",
       "    </tr>\n",
       "    <tr>\n",
       "      <th>3</th>\n",
       "      <td>1.185112</td>\n",
       "      <td>-0.416750</td>\n",
       "      <td>-0.487722</td>\n",
       "      <td>-1.306878</td>\n",
       "      <td>-0.272599</td>\n",
       "      <td>-0.835284</td>\n",
       "      <td>1.016303</td>\n",
       "      <td>-0.809889</td>\n",
       "      <td>1.077737</td>\n",
       "      <td>-0.752922</td>\n",
       "      <td>-1.106115</td>\n",
       "      <td>0.113032</td>\n",
       "      <td>-1.361517</td>\n",
       "    </tr>\n",
       "    <tr>\n",
       "      <th>4</th>\n",
       "      <td>1.490352</td>\n",
       "      <td>-0.412482</td>\n",
       "      <td>-0.487722</td>\n",
       "      <td>-1.306878</td>\n",
       "      <td>-0.272599</td>\n",
       "      <td>-0.835284</td>\n",
       "      <td>1.228577</td>\n",
       "      <td>-0.511180</td>\n",
       "      <td>1.077737</td>\n",
       "      <td>-0.752922</td>\n",
       "      <td>-1.106115</td>\n",
       "      <td>0.113032</td>\n",
       "      <td>-1.026501</td>\n",
       "    </tr>\n",
       "  </tbody>\n",
       "</table>\n",
       "</div>"
      ],
      "text/plain": [
       "         mv      crim        zn     indus      chas       nox     rooms  \\\n",
       "0  0.160376 -0.419782  0.284830 -1.287909 -0.272599 -0.144217  0.413672   \n",
       "1 -0.101258 -0.417339 -0.487722 -0.593381 -0.272599 -0.740262  0.194274   \n",
       "2  1.326830 -0.417342 -0.487722 -0.593381 -0.272599 -0.740262  1.282714   \n",
       "3  1.185112 -0.416750 -0.487722 -1.306878 -0.272599 -0.835284  1.016303   \n",
       "4  1.490352 -0.412482 -0.487722 -1.306878 -0.272599 -0.835284  1.228577   \n",
       "\n",
       "        age       dis       rad       tax   ptratio     lstat  \n",
       "0 -0.120013  0.140214 -0.982843 -0.666608 -1.459000 -1.075562  \n",
       "1  0.367166  0.557160 -0.867883 -0.987329 -0.303094 -0.492439  \n",
       "2 -0.265812  0.557160 -0.867883 -0.987329 -0.303094 -1.208727  \n",
       "3 -0.809889  1.077737 -0.752922 -1.106115  0.113032 -1.361517  \n",
       "4 -0.511180  1.077737 -0.752922 -1.106115  0.113032 -1.026501  "
      ]
     },
     "execution_count": 17,
     "metadata": {},
     "output_type": "execute_result"
    }
   ],
   "source": [
    "visual_data.head()"
   ]
  },
  {
   "cell_type": "code",
   "execution_count": 18,
   "metadata": {},
   "outputs": [
    {
     "data": {
      "text/html": [
       "<div>\n",
       "<style scoped>\n",
       "    .dataframe tbody tr th:only-of-type {\n",
       "        vertical-align: middle;\n",
       "    }\n",
       "\n",
       "    .dataframe tbody tr th {\n",
       "        vertical-align: top;\n",
       "    }\n",
       "\n",
       "    .dataframe thead th {\n",
       "        text-align: right;\n",
       "    }\n",
       "</style>\n",
       "<table border=\"1\" class=\"dataframe\">\n",
       "  <thead>\n",
       "    <tr style=\"text-align: right;\">\n",
       "      <th></th>\n",
       "      <th>mv</th>\n",
       "      <th>crim</th>\n",
       "      <th>zn</th>\n",
       "      <th>indus</th>\n",
       "      <th>chas</th>\n",
       "      <th>nox</th>\n",
       "      <th>rooms</th>\n",
       "      <th>age</th>\n",
       "      <th>dis</th>\n",
       "      <th>rad</th>\n",
       "      <th>tax</th>\n",
       "      <th>ptratio</th>\n",
       "      <th>lstat</th>\n",
       "    </tr>\n",
       "  </thead>\n",
       "  <tbody>\n",
       "    <tr>\n",
       "      <th>501</th>\n",
       "      <td>-0.014047</td>\n",
       "      <td>-0.413229</td>\n",
       "      <td>-0.487722</td>\n",
       "      <td>0.115738</td>\n",
       "      <td>-0.272599</td>\n",
       "      <td>0.158124</td>\n",
       "      <td>0.439316</td>\n",
       "      <td>0.018673</td>\n",
       "      <td>-0.625796</td>\n",
       "      <td>-0.982843</td>\n",
       "      <td>-0.803212</td>\n",
       "      <td>1.176466</td>\n",
       "      <td>-0.418147</td>\n",
       "    </tr>\n",
       "    <tr>\n",
       "      <th>502</th>\n",
       "      <td>-0.210273</td>\n",
       "      <td>-0.415249</td>\n",
       "      <td>-0.487722</td>\n",
       "      <td>0.115738</td>\n",
       "      <td>-0.272599</td>\n",
       "      <td>0.158124</td>\n",
       "      <td>-0.234548</td>\n",
       "      <td>0.288933</td>\n",
       "      <td>-0.716639</td>\n",
       "      <td>-0.982843</td>\n",
       "      <td>-0.803212</td>\n",
       "      <td>1.176466</td>\n",
       "      <td>-0.500850</td>\n",
       "    </tr>\n",
       "    <tr>\n",
       "      <th>503</th>\n",
       "      <td>0.149475</td>\n",
       "      <td>-0.413447</td>\n",
       "      <td>-0.487722</td>\n",
       "      <td>0.115738</td>\n",
       "      <td>-0.272599</td>\n",
       "      <td>0.158124</td>\n",
       "      <td>0.984960</td>\n",
       "      <td>0.797449</td>\n",
       "      <td>-0.773684</td>\n",
       "      <td>-0.982843</td>\n",
       "      <td>-0.803212</td>\n",
       "      <td>1.176466</td>\n",
       "      <td>-0.983048</td>\n",
       "    </tr>\n",
       "    <tr>\n",
       "      <th>504</th>\n",
       "      <td>-0.057653</td>\n",
       "      <td>-0.407764</td>\n",
       "      <td>-0.487722</td>\n",
       "      <td>0.115738</td>\n",
       "      <td>-0.272599</td>\n",
       "      <td>0.158124</td>\n",
       "      <td>0.725672</td>\n",
       "      <td>0.736996</td>\n",
       "      <td>-0.668437</td>\n",
       "      <td>-0.982843</td>\n",
       "      <td>-0.803212</td>\n",
       "      <td>1.176466</td>\n",
       "      <td>-0.865302</td>\n",
       "    </tr>\n",
       "    <tr>\n",
       "      <th>505</th>\n",
       "      <td>-0.384696</td>\n",
       "      <td>-0.415000</td>\n",
       "      <td>-0.487722</td>\n",
       "      <td>0.115738</td>\n",
       "      <td>-0.272599</td>\n",
       "      <td>0.158124</td>\n",
       "      <td>-0.362767</td>\n",
       "      <td>0.434732</td>\n",
       "      <td>-0.613246</td>\n",
       "      <td>-0.982843</td>\n",
       "      <td>-0.803212</td>\n",
       "      <td>1.176466</td>\n",
       "      <td>-0.669058</td>\n",
       "    </tr>\n",
       "  </tbody>\n",
       "</table>\n",
       "</div>"
      ],
      "text/plain": [
       "           mv      crim        zn     indus      chas       nox     rooms  \\\n",
       "501 -0.014047 -0.413229 -0.487722  0.115738 -0.272599  0.158124  0.439316   \n",
       "502 -0.210273 -0.415249 -0.487722  0.115738 -0.272599  0.158124 -0.234548   \n",
       "503  0.149475 -0.413447 -0.487722  0.115738 -0.272599  0.158124  0.984960   \n",
       "504 -0.057653 -0.407764 -0.487722  0.115738 -0.272599  0.158124  0.725672   \n",
       "505 -0.384696 -0.415000 -0.487722  0.115738 -0.272599  0.158124 -0.362767   \n",
       "\n",
       "          age       dis       rad       tax   ptratio     lstat  \n",
       "501  0.018673 -0.625796 -0.982843 -0.803212  1.176466 -0.418147  \n",
       "502  0.288933 -0.716639 -0.982843 -0.803212  1.176466 -0.500850  \n",
       "503  0.797449 -0.773684 -0.982843 -0.803212  1.176466 -0.983048  \n",
       "504  0.736996 -0.668437 -0.982843 -0.803212  1.176466 -0.865302  \n",
       "505  0.434732 -0.613246 -0.982843 -0.803212  1.176466 -0.669058  "
      ]
     },
     "execution_count": 18,
     "metadata": {},
     "output_type": "execute_result"
    }
   ],
   "source": [
    "visual_data.tail()"
   ]
  },
  {
   "cell_type": "code",
   "execution_count": 19,
   "metadata": {},
   "outputs": [
    {
     "data": {
      "text/plain": [
       "array([[ 0.16037616, -0.41978194,  0.28482986, ..., -0.66660821,\n",
       "        -1.45900038, -1.0755623 ],\n",
       "       [-0.10125846, -0.41733926, -0.48772236, ..., -0.98732948,\n",
       "        -0.30309415, -0.49243937],\n",
       "       [ 1.32683049, -0.41734159, -0.48772236, ..., -0.98732948,\n",
       "        -0.30309415, -1.2087274 ],\n",
       "       ...,\n",
       "       [ 0.14947472, -0.41344658, -0.48772236, ..., -0.80321172,\n",
       "         1.17646583, -0.98304761],\n",
       "       [-0.05765269, -0.40776407, -0.48772236, ..., -0.80321172,\n",
       "         1.17646583, -0.86530163],\n",
       "       [-0.38469596, -0.41500016, -0.48772236, ..., -0.80321172,\n",
       "         1.17646583, -0.66905833]])"
      ]
     },
     "execution_count": 19,
     "metadata": {},
     "output_type": "execute_result"
    }
   ],
   "source": [
    "model_data"
   ]
  },
  {
   "cell_type": "code",
   "execution_count": 20,
   "metadata": {},
   "outputs": [
    {
     "data": {
      "text/plain": [
       "array([[ 0.16037616],\n",
       "       [-0.10125846],\n",
       "       [ 1.32683049],\n",
       "       [ 1.18511174],\n",
       "       [ 1.49035213],\n",
       "       [ 0.67274395],\n",
       "       [ 0.04046029],\n",
       "       [-0.04675124],\n",
       "       [-0.65723202],\n",
       "       [-0.3955974 ],\n",
       "       [-0.82075365],\n",
       "       [-0.3955974 ],\n",
       "       [-0.09035701],\n",
       "       [-0.23207576],\n",
       "       [-0.4719075 ],\n",
       "       [-0.28658298],\n",
       "       [ 0.06226318],\n",
       "       [-0.54821759],\n",
       "       [-0.25387865],\n",
       "       [-0.4719075 ],\n",
       "       [-0.97337384],\n",
       "       [-0.3192873 ],\n",
       "       [-0.79895077],\n",
       "       [-0.87526086],\n",
       "       [-0.755345  ],\n",
       "       [-0.94066952],\n",
       "       [-0.64633057],\n",
       "       [-0.84255654],\n",
       "       [-0.45010461],\n",
       "       [-0.16666711],\n",
       "       [-1.07148682],\n",
       "       [-0.87526086],\n",
       "       [-1.01697961],\n",
       "       [-1.02788106],\n",
       "       [-0.98427529],\n",
       "       [-0.3955974 ],\n",
       "       [-0.27568153],\n",
       "       [-0.16666711],\n",
       "       [ 0.18217904],\n",
       "       [ 0.90167424],\n",
       "       [ 1.34863337],\n",
       "       [ 0.44381366],\n",
       "       [ 0.30209491],\n",
       "       [ 0.23668626],\n",
       "       [-0.14486423],\n",
       "       [-0.35199163],\n",
       "       [-0.27568153],\n",
       "       [-0.64633057],\n",
       "       [-0.8861623 ],\n",
       "       [-0.34109019],\n",
       "       [-0.30838586],\n",
       "       [-0.22117432],\n",
       "       [ 0.26939058],\n",
       "       [ 0.09496751],\n",
       "       [-0.3955974 ],\n",
       "       [ 1.40314059],\n",
       "       [ 0.23668626],\n",
       "       [ 0.98888578],\n",
       "       [ 0.08406606],\n",
       "       [-0.3192873 ],\n",
       "       [-0.41740028],\n",
       "       [-0.71173923],\n",
       "       [-0.0358498 ],\n",
       "       [ 0.26939058],\n",
       "       [ 1.14150597],\n",
       "       [ 0.10586895],\n",
       "       [-0.34109019],\n",
       "       [-0.05765269],\n",
       "       [-0.55911903],\n",
       "       [-0.17756855],\n",
       "       [ 0.18217904],\n",
       "       [-0.09035701],\n",
       "       [ 0.02955885],\n",
       "       [ 0.09496751],\n",
       "       [ 0.1712776 ],\n",
       "       [-0.12306134],\n",
       "       [-0.27568153],\n",
       "       [-0.18847   ],\n",
       "       [-0.14486423],\n",
       "       [-0.24297721],\n",
       "       [ 0.59643385],\n",
       "       [ 0.14947472],\n",
       "       [ 0.2475877 ],\n",
       "       [ 0.04046029],\n",
       "       [ 0.14947472],\n",
       "       [ 0.44381366],\n",
       "       [-0.00314548],\n",
       "       [-0.0358498 ],\n",
       "       [ 0.11677039],\n",
       "       [ 0.67274395],\n",
       "       [ 0.00775597],\n",
       "       [-0.05765269],\n",
       "       [ 0.04046029],\n",
       "       [ 0.26939058],\n",
       "       [-0.21027288],\n",
       "       [ 0.64003962],\n",
       "       [-0.12306134],\n",
       "       [ 1.76288818],\n",
       "       [ 2.31886174],\n",
       "       [ 1.16330885],\n",
       "       [ 0.54192664],\n",
       "       [ 0.43291222],\n",
       "       [-0.42830173],\n",
       "       [-0.35199163],\n",
       "       [-0.26478009],\n",
       "       [-0.33018875],\n",
       "       [-0.33018875],\n",
       "       [-0.23207576],\n",
       "       [-0.29748442],\n",
       "       [-0.34109019],\n",
       "       [-0.09035701],\n",
       "       [ 0.02955885],\n",
       "       [-0.40649884],\n",
       "       [-0.41740028],\n",
       "       [-0.43920317],\n",
       "       [-0.46100605],\n",
       "       [-0.14486423],\n",
       "       [-0.36289307],\n",
       "       [-0.23207576],\n",
       "       [-0.35199163],\n",
       "       [-0.05765269],\n",
       "       [-0.24297721],\n",
       "       [-0.22117432],\n",
       "       [-0.57002048],\n",
       "       [-0.40649884],\n",
       "       [-0.12306134],\n",
       "       [-0.74444355],\n",
       "       [-0.68993634],\n",
       "       [-0.49371038],\n",
       "       [-0.89706375],\n",
       "       [-0.36289307],\n",
       "       [-0.3192873 ],\n",
       "       [ 0.05136174],\n",
       "       [-0.45010461],\n",
       "       [-0.755345  ],\n",
       "       [-0.48280894],\n",
       "       [-0.55911903],\n",
       "       [-0.59182336],\n",
       "       [-1.00607817],\n",
       "       [-0.51551327],\n",
       "       [-0.92976807],\n",
       "       [-0.8861623 ],\n",
       "       [-0.99517673],\n",
       "       [-0.755345  ],\n",
       "       [-1.16959981],\n",
       "       [-0.95157096],\n",
       "       [-0.755345  ],\n",
       "       [-0.86435942],\n",
       "       [-0.51551327],\n",
       "       [-0.77714788],\n",
       "       [-0.1121599 ],\n",
       "       [-0.3192873 ],\n",
       "       [-0.78804932],\n",
       "       [-0.34109019],\n",
       "       [-0.6027248 ],\n",
       "       [-0.755345  ],\n",
       "       [-1.02788106],\n",
       "       [ 2.04632568],\n",
       "       [ 0.19308049],\n",
       "       [ 0.08406606],\n",
       "       [ 0.48741943],\n",
       "       [ 2.99475117],\n",
       "       [ 2.99475117],\n",
       "       [ 2.99475117],\n",
       "       [ 0.01865741],\n",
       "       [ 0.26939058],\n",
       "       [ 2.99475117],\n",
       "       [ 0.13857327],\n",
       "       [ 0.13857327],\n",
       "       [-0.02494836],\n",
       "       [-0.55911903],\n",
       "       [-0.37379452],\n",
       "       [ 0.06226318],\n",
       "       [ 0.11677039],\n",
       "       [ 0.00775597],\n",
       "       [ 0.74905405],\n",
       "       [ 0.07316462],\n",
       "       [ 0.22578481],\n",
       "       [ 0.80356126],\n",
       "       [ 1.59936655],\n",
       "       [ 1.88280405],\n",
       "       [ 1.49035213],\n",
       "       [ 1.67567664],\n",
       "       [ 1.08699876],\n",
       "       [ 0.42201078],\n",
       "       [ 0.77085693],\n",
       "       [ 2.99475117],\n",
       "       [ 1.03249155],\n",
       "       [ 0.79265982],\n",
       "       [ 1.34863337],\n",
       "       [ 1.14150597],\n",
       "       [ 0.86896991],\n",
       "       [ 1.51215501],\n",
       "       [ 0.93437857],\n",
       "       [ 0.71634972],\n",
       "       [ 2.99475117],\n",
       "       [ 1.1742103 ],\n",
       "       [ 0.84716703],\n",
       "       [ 1.31592905],\n",
       "       [ 1.34863337],\n",
       "       [ 1.13060453],\n",
       "       [ 0.1712776 ],\n",
       "       [ 2.15534011],\n",
       "       [ 2.83122953],\n",
       "       [ 2.99475117],\n",
       "       [ 0.00775597],\n",
       "       [ 0.20398193],\n",
       "       [-0.00314548],\n",
       "       [ 0.20398193],\n",
       "       [-0.27568153],\n",
       "       [-0.09035701],\n",
       "       [-0.35199163],\n",
       "       [-0.01404692],\n",
       "       [ 0.6073353 ],\n",
       "       [ 0.12767183],\n",
       "       [ 0.26939058],\n",
       "       [ 0.08406606],\n",
       "       [ 0.67274395],\n",
       "       [-0.1121599 ],\n",
       "       [ 0.05136174],\n",
       "       [ 0.4547151 ],\n",
       "       [-0.09035701],\n",
       "       [ 0.54192664],\n",
       "       [ 0.82536414],\n",
       "       [ 2.42787617],\n",
       "       [ 2.99475117],\n",
       "       [ 1.64297232],\n",
       "       [ 0.98888578],\n",
       "       [ 2.63500357],\n",
       "       [ 0.97798434],\n",
       "       [ 0.19308049],\n",
       "       [ 0.99978722],\n",
       "       [ 2.08993145],\n",
       "       [ 2.80942665],\n",
       "       [ 0.70544828],\n",
       "       [ 0.16037616],\n",
       "       [ 0.28029203],\n",
       "       [ 0.97798434],\n",
       "       [ 0.12767183],\n",
       "       [ 0.08406606],\n",
       "       [ 0.48741943],\n",
       "       [-0.26478009],\n",
       "       [-0.0358498 ],\n",
       "       [ 0.12767183],\n",
       "       [-0.53731615],\n",
       "       [-0.43920317],\n",
       "       [ 0.19308049],\n",
       "       [-0.22117432],\n",
       "       [ 0.21488337],\n",
       "       [ 0.40020789],\n",
       "       [ 0.20398193],\n",
       "       [ 0.2475877 ],\n",
       "       [ 0.77085693],\n",
       "       [ 2.20984732],\n",
       "       [-0.06855413],\n",
       "       [-0.17756855],\n",
       "       [ 2.34066463],\n",
       "       [ 2.99475117],\n",
       "       [ 1.46854924],\n",
       "       [ 0.82536414],\n",
       "       [ 1.22871751],\n",
       "       [ 2.24255165],\n",
       "       [ 2.86393386],\n",
       "       [ 0.92347712],\n",
       "       [ 1.52305645],\n",
       "       [ 0.02955885],\n",
       "       [ 0.8907728 ],\n",
       "       [ 2.99475117],\n",
       "       [ 2.28615742],\n",
       "       [-0.19937144],\n",
       "       [-0.15576567],\n",
       "       [ 0.29119347],\n",
       "       [ 0.20398193],\n",
       "       [ 1.3813377 ],\n",
       "       [ 1.07609732],\n",
       "       [ 1.03249155],\n",
       "       [ 1.16330885],\n",
       "       [ 1.15240741],\n",
       "       [ 0.71634972],\n",
       "       [ 1.37043626],\n",
       "       [ 2.49328482],\n",
       "       [ 1.40314059],\n",
       "       [ 2.55869347],\n",
       "       [ 2.99475117],\n",
       "       [ 1.05429443],\n",
       "       [-0.05765269],\n",
       "       [-0.26478009],\n",
       "       [ 0.07316462],\n",
       "       [-0.02494836],\n",
       "       [ 0.2475877 ],\n",
       "       [ 0.65094106],\n",
       "       [ 1.61026799],\n",
       "       [ 0.58553241],\n",
       "       [ 0.14947472],\n",
       "       [-0.09035701],\n",
       "       [ 0.66184251],\n",
       "       [ 0.49832087],\n",
       "       [-0.24297721],\n",
       "       [-0.00314548],\n",
       "       [ 0.70544828],\n",
       "       [ 0.2475877 ],\n",
       "       [-0.05765269],\n",
       "       [ 0.42201078],\n",
       "       [ 1.15240741],\n",
       "       [ 1.47945068],\n",
       "       [ 0.64003962],\n",
       "       [ 1.18511174],\n",
       "       [ 0.61823674],\n",
       "       [ 0.02955885],\n",
       "       [-0.24297721],\n",
       "       [-0.70083779],\n",
       "       [-0.04675124],\n",
       "       [-0.34109019],\n",
       "       [-0.10125846],\n",
       "       [ 0.13857327],\n",
       "       [-0.68993634],\n",
       "       [-0.51551327],\n",
       "       [-0.29748442],\n",
       "       [ 0.06226318],\n",
       "       [-0.16666711],\n",
       "       [ 0.13857327],\n",
       "       [ 0.06226318],\n",
       "       [-0.23207576],\n",
       "       [-0.43920317],\n",
       "       [ 0.26939058],\n",
       "       [ 0.22578481],\n",
       "       [ 0.05136174],\n",
       "       [-0.0358498 ],\n",
       "       [-0.35199163],\n",
       "       [ 0.00775597],\n",
       "       [-0.29748442],\n",
       "       [-0.59182336],\n",
       "       [-0.34109019],\n",
       "       [-0.0358498 ],\n",
       "       [-0.19937144],\n",
       "       [-0.15576567],\n",
       "       [-0.33018875],\n",
       "       [-0.43920317],\n",
       "       [-0.21027288],\n",
       "       [-0.38469596],\n",
       "       [-0.41740028],\n",
       "       [ 1.10880164],\n",
       "       [-0.65723202],\n",
       "       [ 0.14947472],\n",
       "       [ 0.94528001],\n",
       "       [-0.54821759],\n",
       "       [-0.58092192],\n",
       "       [ 0.06226318],\n",
       "       [ 0.21488337],\n",
       "       [ 0.44381366],\n",
       "       [ 0.04046029],\n",
       "       [ 0.1712776 ],\n",
       "       [-0.42830173],\n",
       "       [ 0.82536414],\n",
       "       [-0.4719075 ],\n",
       "       [-0.21027288],\n",
       "       [-0.51551327],\n",
       "       [-0.09035701],\n",
       "       [ 0.01865741],\n",
       "       [ 0.00775597],\n",
       "       [ 0.26939058],\n",
       "       [-0.28658298],\n",
       "       [-0.18847   ],\n",
       "       [-0.62452769],\n",
       "       [-0.06855413],\n",
       "       [ 0.54192664],\n",
       "       [-0.06855413],\n",
       "       [ 0.06226318],\n",
       "       [ 2.99475117],\n",
       "       [ 2.99475117],\n",
       "       [ 2.99475117],\n",
       "       [ 2.99475117],\n",
       "       [ 2.99475117],\n",
       "       [-0.95157096],\n",
       "       [-0.95157096],\n",
       "       [-0.82075365],\n",
       "       [-0.94066952],\n",
       "       [-1.00607817],\n",
       "       [-1.02788106],\n",
       "       [-1.34402288],\n",
       "       [-1.32222   ],\n",
       "       [-1.26771279],\n",
       "       [-1.22410702],\n",
       "       [-1.11509259],\n",
       "       [-1.49664308],\n",
       "       [-1.67106615],\n",
       "       [-1.31131856],\n",
       "       [-1.64926327],\n",
       "       [-1.34402288],\n",
       "       [-1.20230413],\n",
       "       [-0.80985221],\n",
       "       [ 0.07316462],\n",
       "       [-1.39853009],\n",
       "       [-0.95157096],\n",
       "       [-1.07148682],\n",
       "       [-1.02788106],\n",
       "       [-1.09328971],\n",
       "       [-1.5293474 ],\n",
       "       [-1.91089788],\n",
       "       [-1.76917913],\n",
       "       [-1.84548923],\n",
       "       [-1.67106615],\n",
       "       [-1.13689548],\n",
       "       [-1.55115029],\n",
       "       [-1.5293474 ],\n",
       "       [-1.91089788],\n",
       "       [-1.15869836],\n",
       "       [ 0.58553241],\n",
       "       [-0.58092192],\n",
       "       [ 0.54192664],\n",
       "       [-0.82075365],\n",
       "       [-0.58092192],\n",
       "       [-0.50461182],\n",
       "       [-0.6790349 ],\n",
       "       [-1.69286904],\n",
       "       [-1.67106615],\n",
       "       [-1.63836183],\n",
       "       [-1.32222   ],\n",
       "       [-1.49664308],\n",
       "       [-1.54024885],\n",
       "       [-0.63542913],\n",
       "       [-0.90796519],\n",
       "       [-0.18847   ],\n",
       "       [-0.99517673],\n",
       "       [-1.18050125],\n",
       "       [-1.55115029],\n",
       "       [-1.34402288],\n",
       "       [-1.26771279],\n",
       "       [-1.25681134],\n",
       "       [-1.42033298],\n",
       "       [-0.87526086],\n",
       "       [-0.91886663],\n",
       "       [-0.70083779],\n",
       "       [-0.89706375],\n",
       "       [-1.18050125],\n",
       "       [-0.99517673],\n",
       "       [-1.40943154],\n",
       "       [-1.56205173],\n",
       "       [-1.54024885],\n",
       "       [-1.06058538],\n",
       "       [-1.31131856],\n",
       "       [-0.59182336],\n",
       "       [-0.84255654],\n",
       "       [-0.77714788],\n",
       "       [-1.27861423],\n",
       "       [-1.16959981],\n",
       "       [-0.83165509],\n",
       "       [-1.08238827],\n",
       "       [-0.91886663],\n",
       "       [-1.0387825 ],\n",
       "       [-0.99517673],\n",
       "       [-0.79895077],\n",
       "       [-0.70083779],\n",
       "       [-0.51551327],\n",
       "       [-0.8861623 ],\n",
       "       [-0.91886663],\n",
       "       [-1.07148682],\n",
       "       [-0.98427529],\n",
       "       [-0.83165509],\n",
       "       [-0.27568153],\n",
       "       [-0.66813346],\n",
       "       [-0.52641471],\n",
       "       [-0.33018875],\n",
       "       [-0.25387865],\n",
       "       [-0.12306134],\n",
       "       [-0.28658298],\n",
       "       [-0.38469596],\n",
       "       [-0.37379452],\n",
       "       [-0.37379452],\n",
       "       [-0.26478009],\n",
       "       [-0.28658298],\n",
       "       [-0.3192873 ],\n",
       "       [ 0.07316462],\n",
       "       [ 0.79265982],\n",
       "       [-0.95157096],\n",
       "       [-1.00607817],\n",
       "       [-0.63542913],\n",
       "       [-1.14779692],\n",
       "       [-0.86435942],\n",
       "       [-0.12306134],\n",
       "       [ 0.05136174],\n",
       "       [ 0.12767183],\n",
       "       [ 0.26939058],\n",
       "       [-0.07945557],\n",
       "       [-0.21027288],\n",
       "       [-0.14486423],\n",
       "       [-0.37379452],\n",
       "       [-0.21027288],\n",
       "       [-0.79895077],\n",
       "       [-1.69286904],\n",
       "       [-1.57295317],\n",
       "       [-0.97337384],\n",
       "       [-0.26478009],\n",
       "       [-0.07945557],\n",
       "       [ 0.21488337],\n",
       "       [ 0.06226318],\n",
       "       [-0.30838586],\n",
       "       [-0.46100605],\n",
       "       [-0.14486423],\n",
       "       [-0.54821759],\n",
       "       [-0.62452769],\n",
       "       [-0.01404692],\n",
       "       [-0.21027288],\n",
       "       [ 0.14947472],\n",
       "       [-0.05765269],\n",
       "       [-0.38469596]])"
      ]
     },
     "execution_count": 20,
     "metadata": {},
     "output_type": "execute_result"
    }
   ],
   "source": [
    "y=model_data[:, :1]\n",
    "y"
   ]
  },
  {
   "cell_type": "code",
   "execution_count": 21,
   "metadata": {},
   "outputs": [
    {
     "data": {
      "text/plain": [
       "array([[-0.41978194,  0.28482986, -1.2879095 , ..., -0.66660821,\n",
       "        -1.45900038, -1.0755623 ],\n",
       "       [-0.41733926, -0.48772236, -0.59338101, ..., -0.98732948,\n",
       "        -0.30309415, -0.49243937],\n",
       "       [-0.41734159, -0.48772236, -0.59338101, ..., -0.98732948,\n",
       "        -0.30309415, -1.2087274 ],\n",
       "       ...,\n",
       "       [-0.41344658, -0.48772236,  0.11573841, ..., -0.80321172,\n",
       "         1.17646583, -0.98304761],\n",
       "       [-0.40776407, -0.48772236,  0.11573841, ..., -0.80321172,\n",
       "         1.17646583, -0.86530163],\n",
       "       [-0.41500016, -0.48772236,  0.11573841, ..., -0.80321172,\n",
       "         1.17646583, -0.66905833]])"
      ]
     },
     "execution_count": 21,
     "metadata": {},
     "output_type": "execute_result"
    }
   ],
   "source": [
    "x=model_data[:,1:13]\n",
    "x"
   ]
  },
  {
   "cell_type": "code",
   "execution_count": 22,
   "metadata": {},
   "outputs": [
    {
     "data": {
      "text/plain": [
       "0.7382022164245633"
      ]
     },
     "execution_count": 22,
     "metadata": {},
     "output_type": "execute_result"
    }
   ],
   "source": [
    "# model 1: linear regression\n",
    "linear=LinearRegression()\n",
    "linear.fit(x,y)\n",
    "linear.score(x,y) \n",
    "# this is R2"
   ]
  },
  {
   "cell_type": "code",
   "execution_count": 23,
   "metadata": {},
   "outputs": [
    {
     "data": {
      "text/plain": [
       "0.5116617863153713"
      ]
     },
     "execution_count": 23,
     "metadata": {},
     "output_type": "execute_result"
    }
   ],
   "source": [
    "linear_predict=linear.predict(x)\n",
    "sqrt(mean_squared_error(y,linear_predict)) \n",
    "# RMSE of linear regression "
   ]
  },
  {
   "cell_type": "code",
   "execution_count": 24,
   "metadata": {},
   "outputs": [
    {
     "data": {
      "text/plain": [
       "array([0.30803384, 0.41488852, 0.4389384 , 0.6522438 , 0.62178338,\n",
       "       0.49601153, 0.34382819, 1.34082722, 0.66970479, 0.33313776])"
      ]
     },
     "execution_count": 24,
     "metadata": {},
     "output_type": "execute_result"
    }
   ],
   "source": [
    "scores1=cross_val_score(linear, x, y, cv=10, scoring='neg_mean_squared_error')\n",
    "scores1=np.sqrt(-scores1)\n",
    "scores1 \n",
    "# RMSE scores using 10 fold cross validation"
   ]
  },
  {
   "cell_type": "code",
   "execution_count": 25,
   "metadata": {},
   "outputs": [
    {
     "data": {
      "text/plain": [
       "0.5619397427745956"
      ]
     },
     "execution_count": 25,
     "metadata": {},
     "output_type": "execute_result"
    }
   ],
   "source": [
    "scores1.mean()\n",
    "# mean of 10 RMSE scores"
   ]
  },
  {
   "cell_type": "code",
   "execution_count": 26,
   "metadata": {},
   "outputs": [
    {
     "data": {
      "text/plain": [
       "0.737311366859988"
      ]
     },
     "execution_count": 26,
     "metadata": {},
     "output_type": "execute_result"
    }
   ],
   "source": [
    "# model 2: ridge regression\n",
    "ridge=Ridge(alpha=10).fit(x,y)\n",
    "ridge.score(x,y)\n",
    "# lower R2 than linear regression, linear regression is better model"
   ]
  },
  {
   "cell_type": "code",
   "execution_count": 27,
   "metadata": {},
   "outputs": [
    {
     "data": {
      "text/plain": [
       "0.5125315923335965"
      ]
     },
     "execution_count": 27,
     "metadata": {},
     "output_type": "execute_result"
    }
   ],
   "source": [
    "ridge_predict=ridge.predict(x)\n",
    "np.sqrt(mean_squared_error(y,ridge_predict))\n",
    "# higher RMSE, linear regression is better model"
   ]
  },
  {
   "cell_type": "code",
   "execution_count": 28,
   "metadata": {},
   "outputs": [
    {
     "data": {
      "text/plain": [
       "array([0.29745185, 0.39833127, 0.41122133, 0.66202064, 0.61017922,\n",
       "       0.49661353, 0.32827755, 1.32877669, 0.66597138, 0.3117246 ])"
      ]
     },
     "execution_count": 28,
     "metadata": {},
     "output_type": "execute_result"
    }
   ],
   "source": [
    "scores2=cross_val_score(ridge, x, y, cv=10, scoring='neg_mean_squared_error')\n",
    "scores2=np.sqrt(-scores2)\n",
    "scores2 \n",
    "# RMSE scores using 10 fold cross validation"
   ]
  },
  {
   "cell_type": "code",
   "execution_count": 29,
   "metadata": {},
   "outputs": [
    {
     "data": {
      "text/plain": [
       "0.5510568066673047"
      ]
     },
     "execution_count": 29,
     "metadata": {},
     "output_type": "execute_result"
    }
   ],
   "source": [
    "scores2.mean()\n",
    "# lower mean of 10 RMSE, ridge regression is better model "
   ]
  },
  {
   "cell_type": "code",
   "execution_count": 30,
   "metadata": {},
   "outputs": [],
   "source": [
    "# conclusion: ridge regression is better than linear regression \n",
    "# b/c mean of 10 RMSE of ridge regression < mean of 10 RMSE of linear regression using 10 fold cross validation"
   ]
  },
  {
   "cell_type": "code",
   "execution_count": 31,
   "metadata": {},
   "outputs": [
    {
     "data": {
      "text/plain": [
       "0.0"
      ]
     },
     "execution_count": 31,
     "metadata": {},
     "output_type": "execute_result"
    }
   ],
   "source": [
    "lasso=Lasso().fit(x,y)\n",
    "lasso.score(x,y)\n",
    "# really bad R2"
   ]
  },
  {
   "cell_type": "code",
   "execution_count": 32,
   "metadata": {},
   "outputs": [
    {
     "data": {
      "text/plain": [
       "1.0"
      ]
     },
     "execution_count": 32,
     "metadata": {},
     "output_type": "execute_result"
    }
   ],
   "source": [
    "lasso_predict=lasso.predict(x)\n",
    "np.sqrt(mean_squared_error(y,lasso_predict))\n",
    "# really bad RMSE"
   ]
  },
  {
   "cell_type": "code",
   "execution_count": 33,
   "metadata": {},
   "outputs": [
    {
     "data": {
      "text/plain": [
       "array([0.68692133, 0.60505313, 0.61130881, 1.50065271, 1.11517078,\n",
       "       1.43264965, 0.44376355, 1.46671463, 1.18632611, 0.63230127])"
      ]
     },
     "execution_count": 33,
     "metadata": {},
     "output_type": "execute_result"
    }
   ],
   "source": [
    "scores3=cross_val_score(lasso, x, y, cv=10, scoring='neg_mean_squared_error')\n",
    "scores3=np.sqrt(-scores3)\n",
    "scores3 \n",
    "# RMSE scores using 10 fold cross validation"
   ]
  },
  {
   "cell_type": "code",
   "execution_count": 34,
   "metadata": {},
   "outputs": [
    {
     "data": {
      "text/plain": [
       "0.9680861979539465"
      ]
     },
     "execution_count": 34,
     "metadata": {},
     "output_type": "execute_result"
    }
   ],
   "source": [
    "scores3.mean()\n",
    "# really bad (high) mean of 10 RMSE scores using 10 fold cross validation"
   ]
  },
  {
   "cell_type": "code",
   "execution_count": 35,
   "metadata": {},
   "outputs": [],
   "source": [
    "# conclusion: ridge model is still winning here with lowest mean of 10 RMSE"
   ]
  },
  {
   "cell_type": "code",
   "execution_count": 36,
   "metadata": {},
   "outputs": [
    {
     "data": {
      "text/plain": [
       "0.26444537207526786"
      ]
     },
     "execution_count": 36,
     "metadata": {},
     "output_type": "execute_result"
    }
   ],
   "source": [
    "elastic=ElasticNet().fit(x,y)\n",
    "elastic.score(x,y)\n",
    "# very low R2"
   ]
  },
  {
   "cell_type": "code",
   "execution_count": 37,
   "metadata": {},
   "outputs": [
    {
     "data": {
      "text/plain": [
       "0.8576448145501331"
      ]
     },
     "execution_count": 37,
     "metadata": {},
     "output_type": "execute_result"
    }
   ],
   "source": [
    "elastic_predict=elastic.predict(x)\n",
    "np.sqrt(mean_squared_error(y,elastic_predict))\n",
    "# very high RMSE"
   ]
  },
  {
   "cell_type": "code",
   "execution_count": 38,
   "metadata": {},
   "outputs": [
    {
     "data": {
      "text/plain": [
       "array([0.54513257, 0.48204764, 0.42813805, 1.3792635 , 0.98632206,\n",
       "       1.32624965, 0.39635972, 1.36985316, 1.07940418, 0.50759119])"
      ]
     },
     "execution_count": 38,
     "metadata": {},
     "output_type": "execute_result"
    }
   ],
   "source": [
    "scores4=cross_val_score(elastic, x, y, cv=10, scoring='neg_mean_squared_error')\n",
    "scores4=np.sqrt(-scores4)\n",
    "scores4 \n",
    "# RMSE scores using 10 fold cross validation"
   ]
  },
  {
   "cell_type": "code",
   "execution_count": 39,
   "metadata": {},
   "outputs": [
    {
     "data": {
      "text/plain": [
       "0.8500361711142794"
      ]
     },
     "execution_count": 39,
     "metadata": {},
     "output_type": "execute_result"
    }
   ],
   "source": [
    "scores4.mean()\n",
    "# still very high RMSE mean"
   ]
  },
  {
   "cell_type": "code",
   "execution_count": 40,
   "metadata": {},
   "outputs": [],
   "source": [
    "# conclusion: using the mean of 10 RMSE scores of 10 fold cross validation, best model is ridge regression\n",
    "# in order of ridge > linear > elastic net > lasso "
   ]
  },
  {
   "cell_type": "code",
   "execution_count": 41,
   "metadata": {},
   "outputs": [
    {
     "data": {
      "text/plain": [
       "array([-7.72059356e-16])"
      ]
     },
     "execution_count": 41,
     "metadata": {},
     "output_type": "execute_result"
    }
   ],
   "source": [
    "ridge.intercept_\n",
    "# intercept of ridge regression"
   ]
  },
  {
   "cell_type": "code",
   "execution_count": 42,
   "metadata": {},
   "outputs": [
    {
     "data": {
      "text/plain": [
       "array([[-0.1043611 ,  0.10798955, -0.00773088,  0.08141609, -0.2090253 ,\n",
       "         0.28701971,  0.0039542 , -0.31983606,  0.21136091, -0.18369383,\n",
       "        -0.20686589, -0.41898584]])"
      ]
     },
     "execution_count": 42,
     "metadata": {},
     "output_type": "execute_result"
    }
   ],
   "source": [
    "ridge.coef_\n",
    "# coefficients of ridge regression"
   ]
  },
  {
   "cell_type": "code",
   "execution_count": 43,
   "metadata": {},
   "outputs": [],
   "source": [
    "# Thank you for viewing my code!"
   ]
  }
 ],
 "metadata": {
  "kernelspec": {
   "display_name": "Python 3",
   "language": "python",
   "name": "python3"
  },
  "language_info": {
   "codemirror_mode": {
    "name": "ipython",
    "version": 3
   },
   "file_extension": ".py",
   "mimetype": "text/x-python",
   "name": "python",
   "nbconvert_exporter": "python",
   "pygments_lexer": "ipython3",
   "version": "3.6.7"
  }
 },
 "nbformat": 4,
 "nbformat_minor": 2
}
